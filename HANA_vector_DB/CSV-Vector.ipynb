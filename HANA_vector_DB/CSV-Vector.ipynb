{
 "cells": [
  {
   "cell_type": "markdown",
   "metadata": {},
   "source": [
    "Install Python packages\n",
    "Run the following package installations. pip is the package installer for Python. You can use pip to install packages from the Python Package Index and other indexes."
   ]
  },
  {
   "cell_type": "code",
   "execution_count": null,
   "metadata": {},
   "outputs": [],
   "source": [
    "!pip install hdbcli --break-system-packages\n",
    "!pip install generative-ai-hub-sdk[all] --break-system-packages\n",
    "!pip install folium --break-system-packages\n",
    "!pip install ipywidgets --break-system-packages\n",
    "\n",
    "# kernel restart required!!!"
   ]
  },
  {
   "cell_type": "markdown",
   "metadata": {},
   "source": [
    "Configure SAP Generative AI Hub credentials\n",
    "A configuration module has already been executed to enable access to SAP Generative AI foundation models. The detail of this configuration is outside the scope of this workshop.\n",
    "\n",
    "However, the typical configuration is in the following format:\n",
    "\n",
    "{\n",
    "  \"AICORE_AUTH_URL\": \"https://* * * .authentication.sap.hana.ondemand.com\",\n",
    "  \"AICORE_CLIENT_ID\": \"* * * \",\n",
    "  \"AICORE_CLIENT_SECRET\": \"* * * \",\n",
    "  \"AICORE_RESOURCE_GROUP\": \"* * * \",\n",
    "  \"AICORE_BASE_URL\": \"https://api.ai.* * *.cfapps.sap.hana.ondemand.com/v2\"\n",
    "}"
   ]
  },
  {
   "cell_type": "code",
   "execution_count": null,
   "metadata": {},
   "outputs": [],
   "source": [
    "# Test embeddings\n",
    "\n",
    "from gen_ai_hub.proxy.native.openai import embeddings\n",
    "\n",
    "response = embeddings.create(\n",
    "    input=\"SAP Generative AI Hub is awesome!\",\n",
    "    model_name=\"text-embedding-ada-002\"\n",
    "    \n",
    ")\n",
    "print(response.data)"
   ]
  },
  {
   "cell_type": "code",
   "execution_count": null,
   "metadata": {},
   "outputs": [],
   "source": [
    "# Initialize embeddings\n",
    "\n",
    "from gen_ai_hub.proxy.langchain.init_models import init_embedding_model\n",
    "embeddings = init_embedding_model('text-embedding-ada-002')"
   ]
  },
  {
   "cell_type": "code",
   "execution_count": null,
   "metadata": {},
   "outputs": [],
   "source": [
    "# Set llm\n",
    "\n",
    "from gen_ai_hub.proxy.langchain.openai import ChatOpenAI\n",
    "from gen_ai_hub.proxy.core.proxy_clients import get_proxy_client\n",
    "\n",
    "proxy_client = get_proxy_client('gen-ai-hub')\n",
    "llm = ChatOpenAI(proxy_model_name='gpt-4o', proxy_client=proxy_client)"
   ]
  },
  {
   "cell_type": "markdown",
   "metadata": {},
   "source": [
    "Implementing RAG Embeddings\n",
    "Now that all SAP Generative AI Hub configuration steps have been completed, let's continue to process the product catalog data file.\n",
    "\n",
    "Prepare the documentation for the product catalog in CSV format with each row representing a product\n",
    "This code snippet demonstrates how to load and process text data from a CSV file using the CSVLoader from the langchain.document_loaders.csv_loader module.\n",
    "\n",
    "This process is useful for handling large text data, making it more manageable or suitable for further processing, analysis, or input into machine learning models, especially when dealing with limitations on input size."
   ]
  },
  {
   "cell_type": "code",
   "execution_count": null,
   "metadata": {},
   "outputs": [],
   "source": [
    "# Process CSV data file\n",
    "\n",
    "from langchain.text_splitter import CharacterTextSplitter\n",
    "from langchain.document_loaders.csv_loader import CSVLoader\n",
    "\n",
    "loader = CSVLoader(\n",
    "    file_path=\"data/new_product.csv\",\n",
    "    csv_args={\n",
    "        \"delimiter\": \";\",\n",
    "        \"quotechar\": '\"',\n",
    "        \"fieldnames\": [\"PRODUCT_ID\",\"PRODUCT_NAME\",\"CATEGORY\",\"DESCRIPTION\",\"UNIT_PRICE\",\"UNIT_MEASURE\",\"SUPPLIER_ID\",\"SUPPLIER_NAME\",\"LEAD_TIME_DAYS\",\"MIN_ORDER\",\"CURRENCY\",\"SUPPLIER_COUNTRY\",\"SUPPLIER_ADDRESS\",\"AVAILABILITY_DAYS\",\"SUPPLIER_CITY\",\"STOCK_QUANTITY\",\"MANUFACTURER\",\"CITY_LAT\",\"CITY_LONG\", \"RATING\"],\n",
    "    },\n",
    ")\n",
    "\n",
    "# Process data\n",
    "\n",
    "text_documents = loader.load()\n",
    "text_splitter = CharacterTextSplitter(chunk_size=1000, chunk_overlap=0)\n",
    "text_chunks = text_splitter.split_documents(text_documents)\n",
    "print(f\"Number of document chunks: {len(text_chunks)}\")\n",
    "# print(text_chunks)\n",
    "\n",
    "for chunks in text_chunks:\n",
    "    print(chunks.metadata)\n",
    "    print(chunks.page_content)"
   ]
  },
  {
   "cell_type": "markdown",
   "metadata": {},
   "source": [
    "SAP HANA Cloud vector engine\n",
    "Storing vector embeddings within the same database is a strategic move that aligns seamlessly with SAP's commitment to providing a unified platform. This integration eliminates the hurdles posed by data silos, offering a holistic approach to data management. In SAP HANA Cloud, the storage of vector embeddings is seamlessly integrated into the platform's existing structure, allowing users to store them in a designated table. Developers can perform SQL-like queries effortlessly.\n",
    "\n",
    "This means you can execute joins, apply filters, and perform selects by combining vector embeddings with various data types, including transactional, spatial, graph, and JSON data, all within the same SQL environment. The Vector Engine ensures a user-friendly experience, eliminating the need for extensive learning or the adoption of new querying methodologies. Essentially, working with vector embeddings in SAP HANA Cloud is as straightforward as crafting queries in a standard SQL database, offering familiarity and ease of use for developers.\n",
    "\n",
    "Connect to the HANA vector storage instance and create a table to store the documentation data\n",
    "The provided Python script imports database connection modules and initiates a connection to a SAP HANA Cloud instance using the dbapi module. The user is prompted to enter their username and password, which are then used to establish a secure connection to the SAP HANA Cloud database.\n",
    "\n",
    "The langchain_community.vectorstores.hanavector library, specifically the HanaDB class, from the LangChain community, is designed to interact with vector data stored in SAP HANA Cloud database, and enables developers to utilize SAP HANA Cloud's advanced capabilities for managing and querying vector data, in the context of AI and machine learning applications.\n",
    "\n",
    "Note Use your username and password supplied to logon to the SAP HANA Cloud database. Find the host_address in the lesson content."
   ]
  },
  {
   "cell_type": "code",
   "execution_count": null,
   "metadata": {},
   "outputs": [],
   "source": [
    "# HC Vector Engine\n",
    "\n",
    "from hdbcli import dbapi\n",
    "from langchain_community.vectorstores.hanavector import HanaDB\n",
    "\n",
    "host_address = input(\"Enter HANA Cloud Hostname\")\n",
    "hdb_user = input(\"Enter Username\")\n",
    "hdb_password = input(\"Enter Password :\")\n",
    "\n",
    "connection = dbapi.connect(\n",
    "    host_address,\n",
    "    port=\"443\",\n",
    "    user=hdb_user,\n",
    "    password=hdb_password,\n",
    "    autocommit=True,\n",
    "    sslValidateCertificate=False,\n",
    ")"
   ]
  },
  {
   "cell_type": "markdown",
   "metadata": {},
   "source": [
    "Populate the table with data and creates a REAL_VECTOR column to store embeddings\n",
    "Create a LangChain VectorStore interface for the HANA database and specify the table (collection) to use for accessing the vector embeddings. Embeddings are vector representations of text data that incorporate the semantic meaning of the text."
   ]
  },
  {
   "cell_type": "code",
   "execution_count": null,
   "metadata": {},
   "outputs": [],
   "source": [
    "#Create a LangChain VectorStore interface for the HANA database and specify the table (collection) to use for accessing the vector embeddings\n",
    "db = HanaDB(\n",
    "    embedding=embeddings, connection=connection, table_name=\"CATALOG_UPDATED_DEV_1_\"\n",
    ")"
   ]
  },
  {
   "cell_type": "code",
   "execution_count": null,
   "metadata": {},
   "outputs": [],
   "source": [
    "# Delete already existing documents from the table\n",
    "db.delete(filter={})\n",
    "\n",
    "# add the loaded document chunks\n",
    "db.add_documents(text_chunks)"
   ]
  },
  {
   "cell_type": "markdown",
   "metadata": {},
   "source": [
    "Verify product embeddings in SAP HANA Cloud\n"
   ]
  },
  {
   "cell_type": "code",
   "execution_count": null,
   "metadata": {},
   "outputs": [],
   "source": [
    "# Query the table to verify embeddings\n",
    "cursor = connection.cursor()\n",
    "sql = f'SELECT VEC_TEXT, TO_NVARCHAR(VEC_VECTOR) FROM \"{db.table_name}\"'\n",
    "\n",
    "cursor.execute(sql)\n",
    "vectors = cursor.fetchall()\n",
    "\n",
    "for vector in vectors:\n",
    "    print(vector)"
   ]
  },
  {
   "cell_type": "markdown",
   "metadata": {},
   "source": [
    "Enhancing Query Responses\n",
    "Define a prompt template to provide context to queries\n",
    "Define a prompt template to provide context to our prompts. Thus, when passed to the model, the template will add the necessary context to the prompt so that more accurate results are generated.\n",
    "\n",
    "The answer should contain the requested information about products and their descriptions, formatted according to the specified JSON structure for further use in the SAP HANA JSON Document store.\n",
    "\n",
    "The created template for the prompt contains two variables - context and question. These variables will be replaced with the context and question in the upcoming steps."
   ]
  },
  {
   "cell_type": "code",
   "execution_count": null,
   "metadata": {},
   "outputs": [],
   "source": [
    "import warnings\n",
    "warnings.filterwarnings(\"ignore\", category=DeprecationWarning) \n",
    "from langchain.prompts import PromptTemplate\n",
    "from langchain.chains import RetrievalQA\n",
    "\n",
    "prompt_template = \"\"\"use the following pieces of context to answer the question at the end. If you don't know the answer,\n",
    "    just say you don't know, don't try to make up an answer. Format the results in a list of JSON items with the following keys:\n",
    "\n",
    "        \"PRODUCT_ID\", \n",
    "        \"PRODUCT_NAME\",\n",
    "        \"CATEGORY\",\n",
    "        \"DESCRIPTION\",\n",
    "        \"UNIT_PRICE\",\n",
    "        \"UNIT_MEASURE\",\n",
    "        \"SUPPLIER_ID\",\n",
    "        \"SUPPLIER_NAME\",\n",
    "        \"LEAD_TIME_DAYS\",\n",
    "        \"MIN_ORDER\",\n",
    "        \"CURRENCY\",\n",
    "        \"SUPPLIER_COUNTRY\",\n",
    "        \"SUPPLIER_ADDRESS\",\n",
    "        \"SUPPLIER_CITY\",\n",
    "        \"CITY_LAT\",\n",
    "        \"CITY_LONG\",\n",
    "        \"RATING\"\n",
    "      \n",
    "    \n",
    "    The 'RATING' key value is an integer datatype ranging from 0 stars to 5 stars. Where 0 stars is 'bad' and 5 stars is 'excellent'. Do not include json markdown codeblock syntax in the results for example: ```json ```\n",
    "\n",
    "    {context}\n",
    "\n",
    "    question: {question}\n",
    "\n",
    "    \"\"\"\n",
    "\n",
    "\n",
    "PROMPT = PromptTemplate(template = prompt_template, \n",
    "                        input_variables=[\"context\", \"question\"]\n",
    "                       )\n",
    "    \n",
    "chain_type_kwargs = {\"prompt\": PROMPT}"
   ]
  },
  {
   "cell_type": "markdown",
   "metadata": {},
   "source": [
    "Create the Conversational Retrieval Chain with SAP HANA Cloud vector engine\n",
    "This code snippet integrates various components from the langchain library to create a retrieval-based question-answering (QA) system. Here's a breakdown of the key parts and their functionality:\n",
    "\n",
    "Retriever Initialization: The db.as_retriever function is used to initialize a retriever object with specific search arguments ('k':20), which likely defines the number of search results to consider.\n",
    "\n",
    "Prompt Template : The PromptTemplate was defined in the previous step that instructs how to use the context to answer a question. It emphasizes not to fabricate answers if the information is unavailable. The template also outlines the structure for the expected JSON output with various product and supplier details."
   ]
  },
  {
   "cell_type": "code",
   "execution_count": null,
   "metadata": {},
   "outputs": [],
   "source": [
    "question = \"Find products with a rating of 4 and more.\"\n",
    "retriever = db.as_retriever(search_kwargs={'k':20})\n",
    "\n",
    "qa = RetrievalQA.from_chain_type(llm=llm,\n",
    "                 retriever=retriever, \n",
    "                 chain_type=\"stuff\",\n",
    "                 chain_type_kwargs= chain_type_kwargs)\n",
    "\n",
    "answer = qa.run(question)\n",
    "print(answer)"
   ]
  }
 ],
 "metadata": {
  "kernelspec": {
   "display_name": "Python 3",
   "language": "python",
   "name": "python3"
  },
  "language_info": {
   "codemirror_mode": {
    "name": "ipython",
    "version": 3
   },
   "file_extension": ".py",
   "mimetype": "text/x-python",
   "name": "python",
   "nbconvert_exporter": "python",
   "pygments_lexer": "ipython3",
   "version": "3.11.3"
  }
 },
 "nbformat": 4,
 "nbformat_minor": 2
}
